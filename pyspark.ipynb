{
 "cells": [
  {
   "cell_type": "code",
   "execution_count": 1,
   "id": "8bac5f22-0e20-4cac-966e-e904e2b122df",
   "metadata": {},
   "outputs": [],
   "source": [
    "from pyspark.sql import SparkSession"
   ]
  },
  {
   "cell_type": "code",
   "execution_count": 6,
   "id": "a76ed4ea-b5c0-43c6-b642-f9d7ed6f4df0",
   "metadata": {},
   "outputs": [
    {
     "name": "stderr",
     "output_type": "stream",
     "text": [
      "25/04/18 17:35:30 WARN Utils: Your hostname, namunaacharya resolves to a loopback address: 127.0.1.1; using 10.10.42.126 instead (on interface enp2s0)\n",
      "25/04/18 17:35:30 WARN Utils: Set SPARK_LOCAL_IP if you need to bind to another address\n",
      "Setting default log level to \"WARN\".\n",
      "To adjust logging level use sc.setLogLevel(newLevel). For SparkR, use setLogLevel(newLevel).\n",
      "25/04/18 17:35:31 WARN NativeCodeLoader: Unable to load native-hadoop library for your platform... using builtin-java classes where applicable\n"
     ]
    }
   ],
   "source": [
    "spark=SparkSession.builder.appName('order').getOrCreate()"
   ]
  },
  {
   "cell_type": "code",
   "execution_count": 7,
   "id": "959737db-0ad2-49b4-99df-0d74ffc677fd",
   "metadata": {},
   "outputs": [
    {
     "data": {
      "text/html": [
       "\n",
       "            <div>\n",
       "                <p><b>SparkSession - in-memory</b></p>\n",
       "                \n",
       "        <div>\n",
       "            <p><b>SparkContext</b></p>\n",
       "\n",
       "            <p><a href=\"http://10.10.42.126:4040\">Spark UI</a></p>\n",
       "\n",
       "            <dl>\n",
       "              <dt>Version</dt>\n",
       "                <dd><code>v3.5.5</code></dd>\n",
       "              <dt>Master</dt>\n",
       "                <dd><code>local[*]</code></dd>\n",
       "              <dt>AppName</dt>\n",
       "                <dd><code>order</code></dd>\n",
       "            </dl>\n",
       "        </div>\n",
       "        \n",
       "            </div>\n",
       "        "
      ],
      "text/plain": [
       "<pyspark.sql.session.SparkSession at 0x6ffd797e7d30>"
      ]
     },
     "execution_count": 7,
     "metadata": {},
     "output_type": "execute_result"
    }
   ],
   "source": [
    "spark"
   ]
  },
  {
   "cell_type": "code",
   "execution_count": 8,
   "id": "c76eb59e-2c64-409c-b21a-21437182f060",
   "metadata": {},
   "outputs": [],
   "source": [
    "df= spark.read.format('csv').option(\"header\",True).option(\"inferSchema\",True).load('orders_demo_data.csv')"
   ]
  },
  {
   "cell_type": "code",
   "execution_count": 9,
   "id": "8f9c8011-1c04-4a6e-a903-4e817f4cba2e",
   "metadata": {},
   "outputs": [
    {
     "name": "stdout",
     "output_type": "stream",
     "text": [
      "+--------+-----------+----------+----------------+------+--------------+\n",
      "|order_id|customer_id|order_date|product_category|amount|payment_method|\n",
      "+--------+-----------+----------+----------------+------+--------------+\n",
      "|       1|       1006|2023-01-01|        Clothing|101.39| Bank Transfer|\n",
      "|       2|       1019|2023-01-02|            Home| 29.98|        PayPal|\n",
      "|       3|       1014|2023-01-03|        Clothing|299.54|          Cash|\n",
      "|       4|       1010|2023-01-04|        Clothing|342.01| Bank Transfer|\n",
      "|       5|       1007|2023-01-05|     Electronics| 18.13|   Credit Card|\n",
      "|       6|       1006|2023-01-06|        Clothing|260.93|        PayPal|\n",
      "|       7|       1018|2023-01-07|            Toys|120.98| Bank Transfer|\n",
      "|       8|       1010|2023-01-08|        Clothing|326.13|        PayPal|\n",
      "|       9|       1010|2023-01-09|     Electronics| 95.44| Bank Transfer|\n",
      "|      10|       1003|2023-01-10|            Toys|348.56|        PayPal|\n",
      "|      11|       1007|2023-01-11|           Books| 199.5|   Credit Card|\n",
      "|      12|       1002|2023-01-12|        Clothing| 469.0|          Cash|\n",
      "|      13|       1001|2023-01-13|     Electronics| 77.39|   Credit Card|\n",
      "|      14|       1011|2023-01-14|           Books|177.12|          Cash|\n",
      "|      15|       1005|2023-01-15|           Books|  65.6|        PayPal|\n",
      "|      16|       1001|2023-01-16|            Home| 463.1| Bank Transfer|\n",
      "|      17|       1000|2023-01-17|            Toys| 439.9|   Credit Card|\n",
      "|      18|       1011|2023-01-18|        Clothing|136.39|          Cash|\n",
      "|      19|       1011|2023-01-19|     Electronics|333.39|   Credit Card|\n",
      "|      20|       1016|2023-01-20|            Home|410.44|          Cash|\n",
      "+--------+-----------+----------+----------------+------+--------------+\n",
      "only showing top 20 rows\n",
      "\n"
     ]
    }
   ],
   "source": [
    "df.show()"
   ]
  },
  {
   "cell_type": "code",
   "execution_count": 11,
   "id": "18c56a52-ac83-44f6-9b61-eb0d56e49ac0",
   "metadata": {},
   "outputs": [
    {
     "name": "stdout",
     "output_type": "stream",
     "text": [
      "+----------------+-----------------+------------------+\n",
      "|product_category|total_order_count| total_amount_paid|\n",
      "+----------------+-----------------+------------------+\n",
      "|           Books|               14|3522.8500000000004|\n",
      "|            Toys|               16|4000.3599999999997|\n",
      "|        Clothing|               23| 6152.360000000001|\n",
      "|            Home|               22| 6188.310000000001|\n",
      "|     Electronics|               25|           6761.85|\n",
      "+----------------+-----------------+------------------+\n",
      "\n"
     ]
    }
   ],
   "source": [
    "from pyspark.sql.functions import count,sum\n",
    "result = df.groupby(\"product_category\").agg(count(\"*\").alias(\"total_order_count\"),sum(\"amount\").alias(\"total_amount_paid\")).orderBy(\"total_amount_paid\")\n",
    "result.show()"
   ]
  },
  {
   "cell_type": "code",
   "execution_count": null,
   "id": "507fecd5-4d54-47f8-953b-12befb1c2435",
   "metadata": {},
   "outputs": [],
   "source": []
  }
 ],
 "metadata": {
  "kernelspec": {
   "display_name": "Python 3 (ipykernel)",
   "language": "python",
   "name": "python3"
  },
  "language_info": {
   "codemirror_mode": {
    "name": "ipython",
    "version": 3
   },
   "file_extension": ".py",
   "mimetype": "text/x-python",
   "name": "python",
   "nbconvert_exporter": "python",
   "pygments_lexer": "ipython3",
   "version": "3.10.12"
  }
 },
 "nbformat": 4,
 "nbformat_minor": 5
}
