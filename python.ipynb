{
 "cells": [
  {
   "cell_type": "code",
   "execution_count": 1,
   "id": "f4e26d18-3ba5-4642-9893-480704991e1a",
   "metadata": {
    "scrolled": true
   },
   "outputs": [
    {
     "name": "stdout",
     "output_type": "stream",
     "text": [
      "order_id,customer_id,order_date,product_category,amount,payment_method\n",
      "1,1006,2023-01-01,Clothing,101.39,Bank Transfer\n",
      "2,1019,2023-01-02,Home,29.98,PayPal\n",
      "3,1014,2023-01-03,Clothing,299.54,Cash\n",
      "4,1010,2023-01-04,Clothing,342.01,Bank Transfer\n",
      "5,1007,2023-01-05,Electronics,18.13,Credit Card\n",
      "6,1006,2023-01-06,Clothing,260.93,PayPal\n",
      "7,1018,2023-01-07,Toys,120.98,Bank Transfer\n",
      "8,1010,2023-01-08,Clothing,326.13,PayPal\n",
      "9,1010,2023-01-09,Electronics,95.44,Bank Transfer\n",
      "10,1003,2023-01-10,Toys,348.56,PayPal\n",
      "11,1007,2023-01-11,Books,199.5,Credit Card\n",
      "12,1002,2023-01-12,Clothing,469.0,Cash\n",
      "13,1001,2023-01-13,Electronics,77.39,Credit Card\n",
      "14,1011,2023-01-14,Books,177.12,Cash\n",
      "15,1005,2023-01-15,Books,65.6,PayPal\n",
      "16,1001,2023-01-16,Home,463.1,Bank Transfer\n",
      "17,1000,2023-01-17,Toys,439.9,Credit Card\n",
      "18,1011,2023-01-18,Clothing,136.39,Cash\n",
      "19,1011,2023-01-19,Electronics,333.39,Credit Card\n",
      "20,1016,2023-01-20,Home,410.44,Cash\n",
      "21,1009,2023-01-21,Toys,282.05,Credit Card\n",
      "22,1015,2023-01-22,Home,269.53,Cash\n",
      "23,1014,2023-01-23,Toys,128.51,Cash\n",
      "24,1014,2023-01-24,Toys,55.62,PayPal\n",
      "25,1018,2023-01-25,Clothing,449.64,Cash\n",
      "26,1011,2023-01-26,Toys,451.2,PayPal\n",
      "27,1019,2023-01-27,Home,320.22,Cash\n",
      "28,1002,2023-01-28,Toys,176.12,Bank Transfer\n",
      "29,1004,2023-01-29,Clothing,181.11,Bank Transfer\n",
      "30,1018,2023-01-30,Clothing,365.72,Bank Transfer\n",
      "31,1006,2023-01-31,Home,449.58,Cash\n",
      "32,1008,2023-02-01,Books,444.67,PayPal\n",
      "33,1006,2023-02-02,Books,392.14,PayPal\n",
      "34,1017,2023-02-03,Toys,324.6,Cash\n",
      "35,1003,2023-02-04,Electronics,51.23,Bank Transfer\n",
      "36,1013,2023-02-05,Toys,89.2,Bank Transfer\n",
      "37,1017,2023-02-06,Home,450.29,PayPal\n",
      "38,1008,2023-02-07,Home,307.15,Bank Transfer\n",
      "39,1001,2023-02-08,Home,14.51,Credit Card\n",
      "40,1019,2023-02-09,Home,59.72,PayPal\n",
      "41,1014,2023-02-10,Home,335.12,Bank Transfer\n",
      "42,1006,2023-02-11,Clothing,12.48,PayPal\n",
      "43,1011,2023-02-12,Books,88.8,Credit Card\n",
      "44,1007,2023-02-13,Home,278.88,PayPal\n",
      "45,1014,2023-02-14,Electronics,349.03,PayPal\n",
      "46,1002,2023-02-15,Electronics,329.46,PayPal\n",
      "47,1013,2023-02-16,Electronics,119.89,PayPal\n",
      "48,1016,2023-02-17,Electronics,358.97,Credit Card\n",
      "49,1003,2023-02-18,Clothing,126.25,Cash\n",
      "50,1017,2023-02-19,Electronics,169.45,PayPal\n",
      "51,1007,2023-02-20,Home,375.78,PayPal\n",
      "52,1003,2023-02-21,Toys,328.32,Bank Transfer\n",
      "53,1001,2023-02-22,Electronics,426.12,PayPal\n",
      "54,1005,2023-02-23,Clothing,332.23,Bank Transfer\n",
      "55,1009,2023-02-24,Clothing,288.47,Cash\n",
      "56,1003,2023-02-25,Electronics,55.9,Credit Card\n",
      "57,1017,2023-02-26,Toys,190.18,Credit Card\n",
      "58,1011,2023-02-27,Electronics,139.95,Cash\n",
      "59,1001,2023-02-28,Clothing,129.55,Credit Card\n",
      "60,1009,2023-03-01,Books,486.78,Cash\n",
      "61,1003,2023-03-02,Home,202.62,Cash\n",
      "62,1013,2023-03-03,Clothing,447.1,Cash\n",
      "63,1015,2023-03-04,Electronics,319.26,Credit Card\n",
      "64,1014,2023-03-05,Home,399.46,Bank Transfer\n",
      "65,1007,2023-03-06,Electronics,256.29,Cash\n",
      "66,1013,2023-03-07,Electronics,292.68,PayPal\n",
      "67,1007,2023-03-08,Books,251.33,Credit Card\n",
      "68,1015,2023-03-09,Home,105.67,Cash\n",
      "69,1012,2023-03-10,Home,364.0,Cash\n",
      "70,1017,2023-03-11,Books,147.58,PayPal\n",
      "71,1014,2023-03-12,Clothing,21.91,Bank Transfer\n",
      "72,1012,2023-03-13,Electronics,326.28,Bank Transfer\n",
      "73,1008,2023-03-14,Toys,96.78,Bank Transfer\n",
      "74,1014,2023-03-15,Electronics,470.82,Cash\n",
      "75,1012,2023-03-16,Electronics,477.43,Cash\n",
      "76,1000,2023-03-17,Clothing,458.28,Cash\n",
      "77,1006,2023-03-18,Electronics,191.38,Credit Card\n",
      "78,1008,2023-03-19,Books,17.57,PayPal\n",
      "79,1000,2023-03-20,Books,464.88,Cash\n",
      "80,1011,2023-03-21,Home,219.81,PayPal\n",
      "81,1007,2023-03-22,Toys,483.66,PayPal\n",
      "82,1010,2023-03-23,Electronics,482.17,Bank Transfer\n",
      "83,1018,2023-03-24,Electronics,427.97,Credit Card\n",
      "84,1016,2023-03-25,Clothing,154.28,Cash\n",
      "85,1007,2023-03-26,Books,198.7,Bank Transfer\n",
      "86,1002,2023-03-27,Toys,427.06,Bank Transfer\n",
      "87,1002,2023-03-28,Home,165.29,Cash\n",
      "88,1000,2023-03-29,Books,93.05,PayPal\n",
      "89,1004,2023-03-30,Home,282.83,Bank Transfer\n",
      "90,1009,2023-03-31,Clothing,468.72,PayPal\n",
      "91,1006,2023-04-01,Clothing,351.05,Credit Card\n",
      "92,1008,2023-04-02,Electronics,289.33,PayPal\n",
      "93,1006,2023-04-03,Toys,57.62,Credit Card\n",
      "94,1008,2023-04-04,Home,311.35,PayPal\n",
      "95,1007,2023-04-05,Books,495.13,Bank Transfer\n",
      "96,1011,2023-04-06,Clothing,78.64,Bank Transfer\n",
      "97,1001,2023-04-07,Electronics,263.98,Credit Card\n",
      "98,1000,2023-04-08,Electronics,439.91,Cash\n",
      "99,1015,2023-04-09,Home,372.98,Credit Card\n",
      "100,1004,2023-04-10,Clothing,351.54,Credit Card\n",
      "\n"
     ]
    }
   ],
   "source": [
    "data=[]\n",
    "with open('orders_demo_data.csv','r') as file:\n",
    "    print(file.read())"
   ]
  },
  {
   "cell_type": "code",
   "execution_count": 4,
   "id": "92a3fbd3-58bc-405e-b32e-28ebcb2790df",
   "metadata": {},
   "outputs": [],
   "source": [
    "with open('orders_demo_data.csv','r') as file:\n",
    "    header=file.readline().strip().split(',')\n",
    "    for line in file:\n",
    "        values=line.strip().split(',')\n",
    "        row=dict(zip(header,values))\n",
    "        data.append(row)"
   ]
  },
  {
   "cell_type": "code",
   "execution_count": 7,
   "id": "c055cd07-95c4-4e6e-b251-d128e6ce063e",
   "metadata": {
    "scrolled": true
   },
   "outputs": [
    {
     "name": "stdout",
     "output_type": "stream",
     "text": [
      "['order_id', 'customer_id', 'order_date', 'product_category', 'amount', 'payment_method']\n"
     ]
    }
   ],
   "source": [
    "print(header)"
   ]
  },
  {
   "cell_type": "code",
   "execution_count": 8,
   "id": "99848614-c532-4b34-ba98-81ae95cb5400",
   "metadata": {
    "scrolled": true
   },
   "outputs": [
    {
     "name": "stdout",
     "output_type": "stream",
     "text": [
      "[{'order_id': '1', 'customer_id': '1006', 'order_date': '2023-01-01', 'product_category': 'Clothing', 'amount': '101.39', 'payment_method': 'Bank Transfer'}, {'order_id': '2', 'customer_id': '1019', 'order_date': '2023-01-02', 'product_category': 'Home', 'amount': '29.98', 'payment_method': 'PayPal'}, {'order_id': '3', 'customer_id': '1014', 'order_date': '2023-01-03', 'product_category': 'Clothing', 'amount': '299.54', 'payment_method': 'Cash'}, {'order_id': '4', 'customer_id': '1010', 'order_date': '2023-01-04', 'product_category': 'Clothing', 'amount': '342.01', 'payment_method': 'Bank Transfer'}, {'order_id': '5', 'customer_id': '1007', 'order_date': '2023-01-05', 'product_category': 'Electronics', 'amount': '18.13', 'payment_method': 'Credit Card'}, {'order_id': '6', 'customer_id': '1006', 'order_date': '2023-01-06', 'product_category': 'Clothing', 'amount': '260.93', 'payment_method': 'PayPal'}, {'order_id': '7', 'customer_id': '1018', 'order_date': '2023-01-07', 'product_category': 'Toys', 'amount': '120.98', 'payment_method': 'Bank Transfer'}, {'order_id': '8', 'customer_id': '1010', 'order_date': '2023-01-08', 'product_category': 'Clothing', 'amount': '326.13', 'payment_method': 'PayPal'}, {'order_id': '9', 'customer_id': '1010', 'order_date': '2023-01-09', 'product_category': 'Electronics', 'amount': '95.44', 'payment_method': 'Bank Transfer'}, {'order_id': '10', 'customer_id': '1003', 'order_date': '2023-01-10', 'product_category': 'Toys', 'amount': '348.56', 'payment_method': 'PayPal'}, {'order_id': '11', 'customer_id': '1007', 'order_date': '2023-01-11', 'product_category': 'Books', 'amount': '199.5', 'payment_method': 'Credit Card'}, {'order_id': '12', 'customer_id': '1002', 'order_date': '2023-01-12', 'product_category': 'Clothing', 'amount': '469.0', 'payment_method': 'Cash'}, {'order_id': '13', 'customer_id': '1001', 'order_date': '2023-01-13', 'product_category': 'Electronics', 'amount': '77.39', 'payment_method': 'Credit Card'}, {'order_id': '14', 'customer_id': '1011', 'order_date': '2023-01-14', 'product_category': 'Books', 'amount': '177.12', 'payment_method': 'Cash'}, {'order_id': '15', 'customer_id': '1005', 'order_date': '2023-01-15', 'product_category': 'Books', 'amount': '65.6', 'payment_method': 'PayPal'}, {'order_id': '16', 'customer_id': '1001', 'order_date': '2023-01-16', 'product_category': 'Home', 'amount': '463.1', 'payment_method': 'Bank Transfer'}, {'order_id': '17', 'customer_id': '1000', 'order_date': '2023-01-17', 'product_category': 'Toys', 'amount': '439.9', 'payment_method': 'Credit Card'}, {'order_id': '18', 'customer_id': '1011', 'order_date': '2023-01-18', 'product_category': 'Clothing', 'amount': '136.39', 'payment_method': 'Cash'}, {'order_id': '19', 'customer_id': '1011', 'order_date': '2023-01-19', 'product_category': 'Electronics', 'amount': '333.39', 'payment_method': 'Credit Card'}, {'order_id': '20', 'customer_id': '1016', 'order_date': '2023-01-20', 'product_category': 'Home', 'amount': '410.44', 'payment_method': 'Cash'}, {'order_id': '21', 'customer_id': '1009', 'order_date': '2023-01-21', 'product_category': 'Toys', 'amount': '282.05', 'payment_method': 'Credit Card'}, {'order_id': '22', 'customer_id': '1015', 'order_date': '2023-01-22', 'product_category': 'Home', 'amount': '269.53', 'payment_method': 'Cash'}, {'order_id': '23', 'customer_id': '1014', 'order_date': '2023-01-23', 'product_category': 'Toys', 'amount': '128.51', 'payment_method': 'Cash'}, {'order_id': '24', 'customer_id': '1014', 'order_date': '2023-01-24', 'product_category': 'Toys', 'amount': '55.62', 'payment_method': 'PayPal'}, {'order_id': '25', 'customer_id': '1018', 'order_date': '2023-01-25', 'product_category': 'Clothing', 'amount': '449.64', 'payment_method': 'Cash'}, {'order_id': '26', 'customer_id': '1011', 'order_date': '2023-01-26', 'product_category': 'Toys', 'amount': '451.2', 'payment_method': 'PayPal'}, {'order_id': '27', 'customer_id': '1019', 'order_date': '2023-01-27', 'product_category': 'Home', 'amount': '320.22', 'payment_method': 'Cash'}, {'order_id': '28', 'customer_id': '1002', 'order_date': '2023-01-28', 'product_category': 'Toys', 'amount': '176.12', 'payment_method': 'Bank Transfer'}, {'order_id': '29', 'customer_id': '1004', 'order_date': '2023-01-29', 'product_category': 'Clothing', 'amount': '181.11', 'payment_method': 'Bank Transfer'}, {'order_id': '30', 'customer_id': '1018', 'order_date': '2023-01-30', 'product_category': 'Clothing', 'amount': '365.72', 'payment_method': 'Bank Transfer'}, {'order_id': '31', 'customer_id': '1006', 'order_date': '2023-01-31', 'product_category': 'Home', 'amount': '449.58', 'payment_method': 'Cash'}, {'order_id': '32', 'customer_id': '1008', 'order_date': '2023-02-01', 'product_category': 'Books', 'amount': '444.67', 'payment_method': 'PayPal'}, {'order_id': '33', 'customer_id': '1006', 'order_date': '2023-02-02', 'product_category': 'Books', 'amount': '392.14', 'payment_method': 'PayPal'}, {'order_id': '34', 'customer_id': '1017', 'order_date': '2023-02-03', 'product_category': 'Toys', 'amount': '324.6', 'payment_method': 'Cash'}, {'order_id': '35', 'customer_id': '1003', 'order_date': '2023-02-04', 'product_category': 'Electronics', 'amount': '51.23', 'payment_method': 'Bank Transfer'}, {'order_id': '36', 'customer_id': '1013', 'order_date': '2023-02-05', 'product_category': 'Toys', 'amount': '89.2', 'payment_method': 'Bank Transfer'}, {'order_id': '37', 'customer_id': '1017', 'order_date': '2023-02-06', 'product_category': 'Home', 'amount': '450.29', 'payment_method': 'PayPal'}, {'order_id': '38', 'customer_id': '1008', 'order_date': '2023-02-07', 'product_category': 'Home', 'amount': '307.15', 'payment_method': 'Bank Transfer'}, {'order_id': '39', 'customer_id': '1001', 'order_date': '2023-02-08', 'product_category': 'Home', 'amount': '14.51', 'payment_method': 'Credit Card'}, {'order_id': '40', 'customer_id': '1019', 'order_date': '2023-02-09', 'product_category': 'Home', 'amount': '59.72', 'payment_method': 'PayPal'}, {'order_id': '41', 'customer_id': '1014', 'order_date': '2023-02-10', 'product_category': 'Home', 'amount': '335.12', 'payment_method': 'Bank Transfer'}, {'order_id': '42', 'customer_id': '1006', 'order_date': '2023-02-11', 'product_category': 'Clothing', 'amount': '12.48', 'payment_method': 'PayPal'}, {'order_id': '43', 'customer_id': '1011', 'order_date': '2023-02-12', 'product_category': 'Books', 'amount': '88.8', 'payment_method': 'Credit Card'}, {'order_id': '44', 'customer_id': '1007', 'order_date': '2023-02-13', 'product_category': 'Home', 'amount': '278.88', 'payment_method': 'PayPal'}, {'order_id': '45', 'customer_id': '1014', 'order_date': '2023-02-14', 'product_category': 'Electronics', 'amount': '349.03', 'payment_method': 'PayPal'}, {'order_id': '46', 'customer_id': '1002', 'order_date': '2023-02-15', 'product_category': 'Electronics', 'amount': '329.46', 'payment_method': 'PayPal'}, {'order_id': '47', 'customer_id': '1013', 'order_date': '2023-02-16', 'product_category': 'Electronics', 'amount': '119.89', 'payment_method': 'PayPal'}, {'order_id': '48', 'customer_id': '1016', 'order_date': '2023-02-17', 'product_category': 'Electronics', 'amount': '358.97', 'payment_method': 'Credit Card'}, {'order_id': '49', 'customer_id': '1003', 'order_date': '2023-02-18', 'product_category': 'Clothing', 'amount': '126.25', 'payment_method': 'Cash'}, {'order_id': '50', 'customer_id': '1017', 'order_date': '2023-02-19', 'product_category': 'Electronics', 'amount': '169.45', 'payment_method': 'PayPal'}, {'order_id': '51', 'customer_id': '1007', 'order_date': '2023-02-20', 'product_category': 'Home', 'amount': '375.78', 'payment_method': 'PayPal'}, {'order_id': '52', 'customer_id': '1003', 'order_date': '2023-02-21', 'product_category': 'Toys', 'amount': '328.32', 'payment_method': 'Bank Transfer'}, {'order_id': '53', 'customer_id': '1001', 'order_date': '2023-02-22', 'product_category': 'Electronics', 'amount': '426.12', 'payment_method': 'PayPal'}, {'order_id': '54', 'customer_id': '1005', 'order_date': '2023-02-23', 'product_category': 'Clothing', 'amount': '332.23', 'payment_method': 'Bank Transfer'}, {'order_id': '55', 'customer_id': '1009', 'order_date': '2023-02-24', 'product_category': 'Clothing', 'amount': '288.47', 'payment_method': 'Cash'}, {'order_id': '56', 'customer_id': '1003', 'order_date': '2023-02-25', 'product_category': 'Electronics', 'amount': '55.9', 'payment_method': 'Credit Card'}, {'order_id': '57', 'customer_id': '1017', 'order_date': '2023-02-26', 'product_category': 'Toys', 'amount': '190.18', 'payment_method': 'Credit Card'}, {'order_id': '58', 'customer_id': '1011', 'order_date': '2023-02-27', 'product_category': 'Electronics', 'amount': '139.95', 'payment_method': 'Cash'}, {'order_id': '59', 'customer_id': '1001', 'order_date': '2023-02-28', 'product_category': 'Clothing', 'amount': '129.55', 'payment_method': 'Credit Card'}, {'order_id': '60', 'customer_id': '1009', 'order_date': '2023-03-01', 'product_category': 'Books', 'amount': '486.78', 'payment_method': 'Cash'}, {'order_id': '61', 'customer_id': '1003', 'order_date': '2023-03-02', 'product_category': 'Home', 'amount': '202.62', 'payment_method': 'Cash'}, {'order_id': '62', 'customer_id': '1013', 'order_date': '2023-03-03', 'product_category': 'Clothing', 'amount': '447.1', 'payment_method': 'Cash'}, {'order_id': '63', 'customer_id': '1015', 'order_date': '2023-03-04', 'product_category': 'Electronics', 'amount': '319.26', 'payment_method': 'Credit Card'}, {'order_id': '64', 'customer_id': '1014', 'order_date': '2023-03-05', 'product_category': 'Home', 'amount': '399.46', 'payment_method': 'Bank Transfer'}, {'order_id': '65', 'customer_id': '1007', 'order_date': '2023-03-06', 'product_category': 'Electronics', 'amount': '256.29', 'payment_method': 'Cash'}, {'order_id': '66', 'customer_id': '1013', 'order_date': '2023-03-07', 'product_category': 'Electronics', 'amount': '292.68', 'payment_method': 'PayPal'}, {'order_id': '67', 'customer_id': '1007', 'order_date': '2023-03-08', 'product_category': 'Books', 'amount': '251.33', 'payment_method': 'Credit Card'}, {'order_id': '68', 'customer_id': '1015', 'order_date': '2023-03-09', 'product_category': 'Home', 'amount': '105.67', 'payment_method': 'Cash'}, {'order_id': '69', 'customer_id': '1012', 'order_date': '2023-03-10', 'product_category': 'Home', 'amount': '364.0', 'payment_method': 'Cash'}, {'order_id': '70', 'customer_id': '1017', 'order_date': '2023-03-11', 'product_category': 'Books', 'amount': '147.58', 'payment_method': 'PayPal'}, {'order_id': '71', 'customer_id': '1014', 'order_date': '2023-03-12', 'product_category': 'Clothing', 'amount': '21.91', 'payment_method': 'Bank Transfer'}, {'order_id': '72', 'customer_id': '1012', 'order_date': '2023-03-13', 'product_category': 'Electronics', 'amount': '326.28', 'payment_method': 'Bank Transfer'}, {'order_id': '73', 'customer_id': '1008', 'order_date': '2023-03-14', 'product_category': 'Toys', 'amount': '96.78', 'payment_method': 'Bank Transfer'}, {'order_id': '74', 'customer_id': '1014', 'order_date': '2023-03-15', 'product_category': 'Electronics', 'amount': '470.82', 'payment_method': 'Cash'}, {'order_id': '75', 'customer_id': '1012', 'order_date': '2023-03-16', 'product_category': 'Electronics', 'amount': '477.43', 'payment_method': 'Cash'}, {'order_id': '76', 'customer_id': '1000', 'order_date': '2023-03-17', 'product_category': 'Clothing', 'amount': '458.28', 'payment_method': 'Cash'}, {'order_id': '77', 'customer_id': '1006', 'order_date': '2023-03-18', 'product_category': 'Electronics', 'amount': '191.38', 'payment_method': 'Credit Card'}, {'order_id': '78', 'customer_id': '1008', 'order_date': '2023-03-19', 'product_category': 'Books', 'amount': '17.57', 'payment_method': 'PayPal'}, {'order_id': '79', 'customer_id': '1000', 'order_date': '2023-03-20', 'product_category': 'Books', 'amount': '464.88', 'payment_method': 'Cash'}, {'order_id': '80', 'customer_id': '1011', 'order_date': '2023-03-21', 'product_category': 'Home', 'amount': '219.81', 'payment_method': 'PayPal'}, {'order_id': '81', 'customer_id': '1007', 'order_date': '2023-03-22', 'product_category': 'Toys', 'amount': '483.66', 'payment_method': 'PayPal'}, {'order_id': '82', 'customer_id': '1010', 'order_date': '2023-03-23', 'product_category': 'Electronics', 'amount': '482.17', 'payment_method': 'Bank Transfer'}, {'order_id': '83', 'customer_id': '1018', 'order_date': '2023-03-24', 'product_category': 'Electronics', 'amount': '427.97', 'payment_method': 'Credit Card'}, {'order_id': '84', 'customer_id': '1016', 'order_date': '2023-03-25', 'product_category': 'Clothing', 'amount': '154.28', 'payment_method': 'Cash'}, {'order_id': '85', 'customer_id': '1007', 'order_date': '2023-03-26', 'product_category': 'Books', 'amount': '198.7', 'payment_method': 'Bank Transfer'}, {'order_id': '86', 'customer_id': '1002', 'order_date': '2023-03-27', 'product_category': 'Toys', 'amount': '427.06', 'payment_method': 'Bank Transfer'}, {'order_id': '87', 'customer_id': '1002', 'order_date': '2023-03-28', 'product_category': 'Home', 'amount': '165.29', 'payment_method': 'Cash'}, {'order_id': '88', 'customer_id': '1000', 'order_date': '2023-03-29', 'product_category': 'Books', 'amount': '93.05', 'payment_method': 'PayPal'}, {'order_id': '89', 'customer_id': '1004', 'order_date': '2023-03-30', 'product_category': 'Home', 'amount': '282.83', 'payment_method': 'Bank Transfer'}, {'order_id': '90', 'customer_id': '1009', 'order_date': '2023-03-31', 'product_category': 'Clothing', 'amount': '468.72', 'payment_method': 'PayPal'}, {'order_id': '91', 'customer_id': '1006', 'order_date': '2023-04-01', 'product_category': 'Clothing', 'amount': '351.05', 'payment_method': 'Credit Card'}, {'order_id': '92', 'customer_id': '1008', 'order_date': '2023-04-02', 'product_category': 'Electronics', 'amount': '289.33', 'payment_method': 'PayPal'}, {'order_id': '93', 'customer_id': '1006', 'order_date': '2023-04-03', 'product_category': 'Toys', 'amount': '57.62', 'payment_method': 'Credit Card'}, {'order_id': '94', 'customer_id': '1008', 'order_date': '2023-04-04', 'product_category': 'Home', 'amount': '311.35', 'payment_method': 'PayPal'}, {'order_id': '95', 'customer_id': '1007', 'order_date': '2023-04-05', 'product_category': 'Books', 'amount': '495.13', 'payment_method': 'Bank Transfer'}, {'order_id': '96', 'customer_id': '1011', 'order_date': '2023-04-06', 'product_category': 'Clothing', 'amount': '78.64', 'payment_method': 'Bank Transfer'}, {'order_id': '97', 'customer_id': '1001', 'order_date': '2023-04-07', 'product_category': 'Electronics', 'amount': '263.98', 'payment_method': 'Credit Card'}, {'order_id': '98', 'customer_id': '1000', 'order_date': '2023-04-08', 'product_category': 'Electronics', 'amount': '439.91', 'payment_method': 'Cash'}, {'order_id': '99', 'customer_id': '1015', 'order_date': '2023-04-09', 'product_category': 'Home', 'amount': '372.98', 'payment_method': 'Credit Card'}, {'order_id': '100', 'customer_id': '1004', 'order_date': '2023-04-10', 'product_category': 'Clothing', 'amount': '351.54', 'payment_method': 'Credit Card'}]\n"
     ]
    }
   ],
   "source": [
    "print(data)"
   ]
  },
  {
   "cell_type": "code",
   "execution_count": 10,
   "id": "7747243c-95cb-4f06-868e-c54803500730",
   "metadata": {},
   "outputs": [],
   "source": [
    "result={}\n",
    "for row in data:\n",
    "    category=row['product_category']\n",
    "    amount=float(row['amount'])\n",
    "\n",
    "    if category not in result:\n",
    "        result[category]={\"total_orders\":0 , \"total_amount\":0.0}\n",
    "\n",
    "    result[category]['total_orders']+=1\n",
    "    result[category]['total_amount']+=amount"
   ]
  },
  {
   "cell_type": "code",
   "execution_count": 13,
   "id": "cc595282-9742-4ced-9b32-57b33c0ee110",
   "metadata": {},
   "outputs": [
    {
     "name": "stdout",
     "output_type": "stream",
     "text": [
      "Clothing : Total Orders= 23, Total Amount Paid=6152.360000000001\n",
      "Home : Total Orders= 22, Total Amount Paid=6188.310000000001\n",
      "Electronics : Total Orders= 25, Total Amount Paid=6761.85\n",
      "Toys : Total Orders= 16, Total Amount Paid=4000.3599999999997\n",
      "Books : Total Orders= 14, Total Amount Paid=3522.8500000000004\n"
     ]
    }
   ],
   "source": [
    "for category,s in result.items():\n",
    "    print(f\"{category} : Total Orders= {s['total_orders']}, Total Amount Paid={s['total_amount']}\")"
   ]
  },
  {
   "cell_type": "code",
   "execution_count": null,
   "id": "4474d429-137a-46d1-a355-ac4c173cd47f",
   "metadata": {},
   "outputs": [],
   "source": []
  }
 ],
 "metadata": {
  "kernelspec": {
   "display_name": "Python 3 (ipykernel)",
   "language": "python",
   "name": "python3"
  },
  "language_info": {
   "codemirror_mode": {
    "name": "ipython",
    "version": 3
   },
   "file_extension": ".py",
   "mimetype": "text/x-python",
   "name": "python",
   "nbconvert_exporter": "python",
   "pygments_lexer": "ipython3",
   "version": "3.10.12"
  }
 },
 "nbformat": 4,
 "nbformat_minor": 5
}
